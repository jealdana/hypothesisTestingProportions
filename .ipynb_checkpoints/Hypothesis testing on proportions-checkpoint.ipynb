{
 "cells": [
  {
   "cell_type": "markdown",
   "metadata": {
    "toc": true
   },
   "source": [
    "<h1>Table of Contents<span class=\"tocSkip\"></span></h1>\n",
    "<div class=\"toc\"><ul class=\"toc-item\"><li><span><a href=\"#Description-of-problem\" data-toc-modified-id=\"Description-of-problem-1\"><span class=\"toc-item-num\">1&nbsp;&nbsp;</span>Description of problem</a></span><ul class=\"toc-item\"><li><span><a href=\"#Extraction-of-information\" data-toc-modified-id=\"Extraction-of-information-1.1\"><span class=\"toc-item-num\">1.1&nbsp;&nbsp;</span>Extraction of information</a></span></li></ul></li><li><span><a href=\"#Resolution-of-the-problem\" data-toc-modified-id=\"Resolution-of-the-problem-2\"><span class=\"toc-item-num\">2&nbsp;&nbsp;</span>Resolution of the problem</a></span><ul class=\"toc-item\"><li><span><a href=\"#Steps-for-resolution\" data-toc-modified-id=\"Steps-for-resolution-2.1\"><span class=\"toc-item-num\">2.1&nbsp;&nbsp;</span>Steps for resolution</a></span><ul class=\"toc-item\"><li><span><a href=\"#Establish-hypotheses\" data-toc-modified-id=\"Establish-hypotheses-2.1.1\"><span class=\"toc-item-num\">2.1.1&nbsp;&nbsp;</span>Establish hypotheses</a></span></li><li><span><a href=\"#Determine-testing-method\" data-toc-modified-id=\"Determine-testing-method-2.1.2\"><span class=\"toc-item-num\">2.1.2&nbsp;&nbsp;</span>Determine testing method</a></span></li><li><span><a href=\"#Establish-rejection-criteria\" data-toc-modified-id=\"Establish-rejection-criteria-2.1.3\"><span class=\"toc-item-num\">2.1.3&nbsp;&nbsp;</span>Establish rejection criteria</a></span></li><li><span><a href=\"#Do-calculations\" data-toc-modified-id=\"Do-calculations-2.1.4\"><span class=\"toc-item-num\">2.1.4&nbsp;&nbsp;</span>Do calculations</a></span><ul class=\"toc-item\"><li><span><a href=\"#Set-the-variables-given-by-the-problem-and-review-if-both-samples-follow-a-normal-distr\" data-toc-modified-id=\"Set-the-variables-given-by-the-problem-and-review-if-both-samples-follow-a-normal-distr-2.1.4.1\"><span class=\"toc-item-num\">2.1.4.1&nbsp;&nbsp;</span>Set the variables given by the problem and review if both samples follow a normal distr</a></span></li><li><span><a href=\"#Get-sample-proportions-and-review-if-both-samples-follow-a-normal-distr\" data-toc-modified-id=\"Get-sample-proportions-and-review-if-both-samples-follow-a-normal-distr-2.1.4.2\"><span class=\"toc-item-num\">2.1.4.2&nbsp;&nbsp;</span>Get sample proportions and review if both samples follow a normal distr</a></span></li><li><span><a href=\"#Get-the-Standard-Error-of-the-Difference\" data-toc-modified-id=\"Get-the-Standard-Error-of-the-Difference-2.1.4.3\"><span class=\"toc-item-num\">2.1.4.3&nbsp;&nbsp;</span>Get the Standard Error of the Difference</a></span></li><li><span><a href=\"#Calculate-z\" data-toc-modified-id=\"Calculate-z-2.1.4.4\"><span class=\"toc-item-num\">2.1.4.4&nbsp;&nbsp;</span>Calculate z</a></span></li></ul></li></ul></li></ul></li><li><span><a href=\"#Conclusions\" data-toc-modified-id=\"Conclusions-3\"><span class=\"toc-item-num\">3&nbsp;&nbsp;</span>Conclusions</a></span></li></ul></div>"
   ]
  },
  {
   "cell_type": "markdown",
   "metadata": {},
   "source": [
    "# Description of problem\n",
    "Suppose a random sample of 100 US companies taken in 2015 showed that 21 offered high-deductible health insurance plans to their workers. A separate random sample of 120 firms taken in 2016 showed that 30 offered high-deductivle health insurance plans to their workers. Based on the sample results, can you conclude that there is a **higher proportion** of U.S. companies offering high-deductible health insurance plan to their workers **in 2016 than in 2015**? Conduct your hypothesis test at a level of significance alpha = 0.05."
   ]
  },
  {
   "cell_type": "markdown",
   "metadata": {},
   "source": [
    "## Extraction of information"
   ]
  },
  {
   "cell_type": "markdown",
   "metadata": {},
   "source": [
    "subject of interest = high-deductible health insurance plans  \n",
    "Random sample 2015 size = 100;  \n",
    "Observed subjects of interest = 21;  \n",
    "\n",
    "Random sample 2016 size = 120;  \n",
    "Observed subjects of interest = 30;  \n",
    "With an alpha of 0.05  "
   ]
  },
  {
   "cell_type": "markdown",
   "metadata": {},
   "source": [
    "# Resolution of the problem"
   ]
  },
  {
   "cell_type": "markdown",
   "metadata": {},
   "source": [
    "## Steps for resolution\n",
    "\n",
    "1. Establish hypotheses \n",
    "2. Determine testing method\n",
    "3. Establish rejection criteria\n",
    "4. Do calculations"
   ]
  },
  {
   "cell_type": "markdown",
   "metadata": {},
   "source": [
    "### Establish hypotheses"
   ]
  },
  {
   "cell_type": "markdown",
   "metadata": {},
   "source": [
    "The z test statistic is based on the difference between two sample proportions left parenthesis p 1 minus p 2 right parenthesis and the hypothesized value of the difference of the associated population proportions left parenthesis p 1 minus p 2 right parenthesis. Subtracting p 2 from both sides of the null and alternative hypotheses yields the formulations given below. \n",
    "\n",
    "Note that p 1 and p 2 are the sample proportions of observations with the characteristic of interest in samples taken from populations 1 and 2, respectively; and p 1 and p 2 are the proportions of members with the characteristic of interest in populations 1 and 2, respectively."
   ]
  },
  {
   "attachments": {},
   "cell_type": "markdown",
   "metadata": {},
   "source": [
    "Null Hypothesis:   p2015 <= p2016  \n",
    "Alternative hypothesis:  2015 > p2016  \n",
    "With an alpha of 0.05\n",
    "\n",
    "![image.png](00hypothesis.png)\n",
    "\n",
    "Null Hypothesis:   p2015 - p2016 <=  0  \n",
    "Alternative hypothesis:  p2015 - p2016 > 0  \n",
    "\n",
    "With an alpha of 0.05"
   ]
  },
  {
   "cell_type": "markdown",
   "metadata": {},
   "source": [
    "### Determine testing method"
   ]
  },
  {
   "attachments": {},
   "cell_type": "markdown",
   "metadata": {},
   "source": [
    "Right tail on alpha of 0.05\n",
    "![image.png](04test.png)"
   ]
  },
  {
   "cell_type": "markdown",
   "metadata": {},
   "source": [
    "### Establish rejection criteria\n"
   ]
  },
  {
   "cell_type": "markdown",
   "metadata": {},
   "source": [
    "Reject the null hypothesis of the p-value is less than 0.05 alpha "
   ]
  },
  {
   "cell_type": "markdown",
   "metadata": {},
   "source": [
    "### Do calculations\n"
   ]
  },
  {
   "attachments": {},
   "cell_type": "markdown",
   "metadata": {},
   "source": [
    "In order to calculate z\n",
    "![image.png](01zscore.png)\n",
    "\n",
    "We need to follow the next steps:\n",
    "1. Set the variables given by the problem\n",
    "2. Get sample proportions and review if both samples follow a normal distr\n",
    "3. Calculate Standard Error of the Difference\n",
    "    - Calculate p-bar of both populations\n",
    "4. Calculate z"
   ]
  },
  {
   "cell_type": "markdown",
   "metadata": {},
   "source": [
    "#### Set the variables given by the problem and review if both samples follow a normal distr"
   ]
  },
  {
   "cell_type": "code",
   "execution_count": 107,
   "metadata": {
    "code_folding": [
     1
    ]
   },
   "outputs": [],
   "source": [
    "\n",
    "def setVariables(n1,obs1,n2,obs2, alpha):\n",
    "    n1,obs1,n2,obs2, alpha = n1,obs1,n2,obs2, alpha\n",
    "    return n1,obs1,n2,obs2, alpha\n",
    "\n",
    "n1,obs1,n2,obs2,alpha = setVariables(100,21,120,30,.05)"
   ]
  },
  {
   "cell_type": "markdown",
   "metadata": {},
   "source": [
    "#### Get sample proportions and review if both samples follow a normal distr"
   ]
  },
  {
   "cell_type": "markdown",
   "metadata": {},
   "source": [
    "Then we need to calculate the sample proportions"
   ]
  },
  {
   "cell_type": "code",
   "execution_count": 108,
   "metadata": {
    "code_folding": [
     0,
     5,
     6
    ]
   },
   "outputs": [
    {
     "name": "stdout",
     "output_type": "stream",
     "text": [
      "Both samples fulfill the normal distribution\n"
     ]
    },
    {
     "data": {
      "text/plain": [
       "True"
      ]
     },
     "execution_count": 108,
     "metadata": {},
     "output_type": "execute_result"
    }
   ],
   "source": [
    "def getSampleProportions(obs1,obs2,n1,n2):\n",
    "    ps1 = obs1*1./n1;\n",
    "    ps2 = obs2*1./n2;\n",
    "    return ps1,ps2\n",
    "\n",
    "def checkSamplesNormalDist(n1,ps1,n2,ps2):\n",
    "    if (n1*ps1 > 5.) & (n1*ps1*(1-ps1)> 5.) & (n2*ps2 > 5.) & (n2*ps2*(1-ps2)> 5.): \n",
    "        #Checking if both samples are normal\n",
    "        print \"Both samples fulfill the normal distribution\"\n",
    "    return (n1*ps1 > 5.) & (n1*ps1*(1-ps1)> 5.) & (n2*ps2 > 5.) & (n2*ps2*(1-ps2)> 5.)\n",
    "\n",
    "ps1,ps2 = getSampleProportions(obs1,obs2,n1,n2)\n",
    "checkSamplesNormalDist(n1,ps1,n2,ps2)"
   ]
  },
  {
   "cell_type": "markdown",
   "metadata": {},
   "source": [
    "#### Get the Standard Error of the Difference"
   ]
  },
  {
   "attachments": {},
   "cell_type": "markdown",
   "metadata": {},
   "source": [
    "In order to get the Standard Error of the Difference\n",
    "\n",
    "![image.png](02error.png)\n",
    "\n",
    "We need to follow these steps:\n",
    "\n",
    "1. Get the pool proportion\n",
    "2. Calculate the Standard Error of the Difference"
   ]
  },
  {
   "attachments": {},
   "cell_type": "markdown",
   "metadata": {},
   "source": [
    "##### 1. Get the pool proportion\n",
    "\n",
    "Insert variables in the following formula:\n",
    "\n",
    "![image.png](03poolprop.png)  \n",
    "\n",
    "Where: \n",
    "-  x1 and n1 are the observations and sample size of 2015 respectively\n",
    "-  x2 and n2 are the the observations and sample size of 2016 respectively\n",
    "\n",
    "##### 2. Calculate the variability\n",
    "\n",
    "- Do the calculation"
   ]
  },
  {
   "cell_type": "code",
   "execution_count": 103,
   "metadata": {
    "code_folding": [
     0,
     3
    ]
   },
   "outputs": [],
   "source": [
    "def getPoolProportion(obs1,obs2,n1,n2):\n",
    "    return (obs1+obs2)*1./(n1+n2);\n",
    "\n",
    "def getSigmaDiffProportions(poolProportion,n1,n2):\n",
    "    import math\n",
    "    qBar = 1 - poolProportion;\n",
    "    numerator = pBar*poolProportion;\n",
    "    denominator = (1./n1)+(1./n2)\n",
    "    return math.sqrt(numerator*denominator)\n",
    "\n",
    "poolProportion = getPoolProportion(obs1,obs2,n1,n2)    \n",
    "sigmaP1P2 = getSigmaDiffProportions(poolProportion,n1,n2)"
   ]
  },
  {
   "cell_type": "markdown",
   "metadata": {},
   "source": [
    "#### Calculate z"
   ]
  },
  {
   "attachments": {},
   "cell_type": "markdown",
   "metadata": {},
   "source": [
    "This block provide the steps to:  \n",
    "1) Get the z-score, and  \n",
    "2) Do the hypothesis testing (Here we will need alpha)\n",
    "![image.png](01zscore.png)"
   ]
  },
  {
   "cell_type": "code",
   "execution_count": 106,
   "metadata": {
    "code_folding": [
     14,
     18
    ]
   },
   "outputs": [
    {
     "name": "stdout",
     "output_type": "stream",
     "text": [
      "Z-score of -1.072811\n",
      "P-value of 0.141678\n"
     ]
    }
   ],
   "source": [
    "# This block provide the steps to:\n",
    "# 1) Get the z-score, and\n",
    "# 2) Do the hypothesis testing (Here we will need alpha)\n",
    "\n",
    "def getZscore(ps1,ps2,sigmaP1P2):\n",
    "    diffSampleProps = ps1 - ps2\n",
    "    diffPopulationProps = 0; # from the definition of the hypotheses where the dif of populations is zero.\n",
    "    zScore = (diffSampleProps*1. - diffPopulationProps)/sigmaP1P2\n",
    "    return zScore\n",
    "\n",
    "def get_pValueUpperTail(zScore,alpha):\n",
    "    import scipy.stats as st\n",
    "    msg = \"\"\n",
    "    if st.norm.sf(abs(zScore)) >= alpha:\n",
    "        msg = \"\"\"If the p-value is greater than or equal to alpha, do not reject the null hypothesis. \n",
    "                 there is not enough statistical evidence that the alternative hypothesis is correct.\n",
    "                 \"\"\"\n",
    "    else:\n",
    "        msg = \"\"\"Reject the null hypothesis since the p-value is less than alpha,\n",
    "                 Therefore ,there is statistical evidence that the alternative hypothesis is correct.\n",
    "                 \"\"\"\n",
    "        \n",
    "    return zScore,alpha,st.norm.sf(abs(zScore)),msg, st.norm.sf(abs(zScore)) < alpha\n",
    "\n",
    "zScore = getZscore(ps1,ps2,sigmaP1P2)\n",
    "zScore,alpha,pValue,generalConclusion,rejected = get_pValueUpperTail(zScore,alpha)\n",
    "\n",
    "print \"Z-score of %f\"%zScore\n",
    "print \"P-value of %f\"%pValue"
   ]
  },
  {
   "cell_type": "markdown",
   "metadata": {},
   "source": [
    "---"
   ]
  },
  {
   "cell_type": "markdown",
   "metadata": {},
   "source": [
    "# Conclusions"
   ]
  },
  {
   "attachments": {},
   "cell_type": "markdown",
   "metadata": {},
   "source": [
    "Based on the sample results, can you conclude that there is a **higher proportion** of U.S. companies offering high-deductible health insurance plan to their workers **in 2016 than in 2015**?\n",
    "\n",
    "Hypotheses:  \n",
    "\n",
    "Null Hypothesis:   p2015 <= p2016  \n",
    "Alternative hypothesis:  2015 > p2016  \n",
    "With an alpha of 0.05\n",
    "\n",
    "![image.png](00hypothesis.png)\n",
    "\n",
    "Null Hypothesis:   p2015 - p2016 <=  0  \n",
    "Alternative hypothesis:  p2015 - p2016 > 0  \n",
    "\n",
    "With an alpha of 0.05"
   ]
  },
  {
   "cell_type": "code",
   "execution_count": 98,
   "metadata": {
    "code_folding": [
     0,
     1
    ]
   },
   "outputs": [
    {
     "name": "stdout",
     "output_type": "stream",
     "text": [
      "With a 95% confidence on the sample results, we can conclude that \n",
      "there is NOT statistical evidence to support the claim that there is a \n",
      "higher proportion of U.S. companies offering high-deductible health \n",
      "insurance plan to their workers in 2015 than in 2016. In other words, \n",
      "there is statistical evidence to support the claim that there is a higher \n",
      "proportion of U.S. companies offering high-deductible health insurance plan \n",
      "to their workers in 2016 than in 2015\n"
     ]
    }
   ],
   "source": [
    "# Conclusion\n",
    "def conclusion(rejected):\n",
    "    if rejected:\n",
    "        print \"\"\"With a 95% confidence on the sample results, we can conclude that \\nthere is statistical evidence to support the claim that there is a \\nhigher proportion of U.S. companies offering high-deductible health \\ninsurance plan to their workers in 2015 than in 2016.\"\"\"\n",
    "    else:\n",
    "        print \"\"\"With a 95% confidence on the sample results, we can conclude that \\nthere is NOT statistical evidence to support the claim that there is a \\nhigher proportion of U.S. companies offering high-deductible health \\ninsurance plan to their workers in 2015 than in 2016. In other words, \\nthere is statistical evidence to support the claim that there is a higher \\nproportion of U.S. companies offering high-deductible health insurance plan \\nto their workers in 2016 than in 2015\"\"\"\n",
    "conclusion(rejected)        "
   ]
  }
 ],
 "metadata": {
  "hide_input": false,
  "kernelspec": {
   "display_name": "Python 2",
   "language": "python",
   "name": "python2"
  },
  "language_info": {
   "codemirror_mode": {
    "name": "ipython",
    "version": 2
   },
   "file_extension": ".py",
   "mimetype": "text/x-python",
   "name": "python",
   "nbconvert_exporter": "python",
   "pygments_lexer": "ipython2",
   "version": "2.7.15"
  },
  "toc": {
   "base_numbering": 1,
   "nav_menu": {},
   "number_sections": true,
   "sideBar": true,
   "skip_h1_title": false,
   "title_cell": "Table of Contents",
   "title_sidebar": "Contents",
   "toc_cell": true,
   "toc_position": {},
   "toc_section_display": true,
   "toc_window_display": false
  }
 },
 "nbformat": 4,
 "nbformat_minor": 2
}
