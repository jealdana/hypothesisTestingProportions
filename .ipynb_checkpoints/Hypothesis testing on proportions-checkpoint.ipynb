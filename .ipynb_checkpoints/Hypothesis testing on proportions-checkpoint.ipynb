{
 "cells": [
  {
   "cell_type": "markdown",
   "metadata": {
    "toc": true
   },
   "source": [
    "<h1>Table of Contents<span class=\"tocSkip\"></span></h1>\n",
    "<div class=\"toc\"><ul class=\"toc-item\"><li><span><a href=\"#Description-of-problem\" data-toc-modified-id=\"Description-of-problem-1\"><span class=\"toc-item-num\">1&nbsp;&nbsp;</span>Description of problem</a></span><ul class=\"toc-item\"><li><span><a href=\"#Extraction-of-information\" data-toc-modified-id=\"Extraction-of-information-1.1\"><span class=\"toc-item-num\">1.1&nbsp;&nbsp;</span>Extraction of information</a></span></li></ul></li><li><span><a href=\"#Resolution-of-the-problem\" data-toc-modified-id=\"Resolution-of-the-problem-2\"><span class=\"toc-item-num\">2&nbsp;&nbsp;</span>Resolution of the problem</a></span><ul class=\"toc-item\"><li><span><a href=\"#Steps-for-resolution\" data-toc-modified-id=\"Steps-for-resolution-2.1\"><span class=\"toc-item-num\">2.1&nbsp;&nbsp;</span>Steps for resolution</a></span><ul class=\"toc-item\"><li><span><a href=\"#Establish-hypotheses\" data-toc-modified-id=\"Establish-hypotheses-2.1.1\"><span class=\"toc-item-num\">2.1.1&nbsp;&nbsp;</span>Establish hypotheses</a></span></li><li><span><a href=\"#Determine-testing-method\" data-toc-modified-id=\"Determine-testing-method-2.1.2\"><span class=\"toc-item-num\">2.1.2&nbsp;&nbsp;</span>Determine testing method</a></span></li><li><span><a href=\"#Establish-rejection-criteria\" data-toc-modified-id=\"Establish-rejection-criteria-2.1.3\"><span class=\"toc-item-num\">2.1.3&nbsp;&nbsp;</span>Establish rejection criteria</a></span></li><li><span><a href=\"#Do-calculations\" data-toc-modified-id=\"Do-calculations-2.1.4\"><span class=\"toc-item-num\">2.1.4&nbsp;&nbsp;</span>Do calculations</a></span></li><li><span><a href=\"#Conclusions\" data-toc-modified-id=\"Conclusions-2.1.5\"><span class=\"toc-item-num\">2.1.5&nbsp;&nbsp;</span>Conclusions</a></span></li></ul></li></ul></li></ul></div>"
   ]
  },
  {
   "cell_type": "markdown",
   "metadata": {},
   "source": [
    "# Description of problem\n",
    "Suppose a random sample of 100 US companies taken in 2015 showed that 21 offered high-deductible health insurance plans to their workers. A separate random sample of 120 firms taken in 2016 showed that 30 offered high-deductivle health insurance plans to their workers. Based on the sample results, can you conclude that there is a higher proportion of U.S. companies offering high-deductible health insurance plan to theris workers in 2016 than in 2015? Conduct your hypothesis test at a level of significance alpha = 0.05."
   ]
  },
  {
   "cell_type": "markdown",
   "metadata": {},
   "source": [
    "## Extraction of information"
   ]
  },
  {
   "cell_type": "markdown",
   "metadata": {},
   "source": [
    "subject of interest = high-deductible health insurance plans  \n",
    "Random sample 1 size = 100;  \n",
    "Observed subjects of interest = 21;  \n",
    "\n",
    "Random sample 2 size = 120;  \n",
    "Observed subjects of interest = 30;  \n",
    "With an alpha of 0.05  "
   ]
  },
  {
   "cell_type": "markdown",
   "metadata": {},
   "source": [
    "# Resolution of the problem\n",
    "\n",
    "## Steps for resolution\n",
    "\n",
    "1. Establish hypotheses \n",
    "2. Determine testing method\n",
    "3. Establish rejection criteria\n",
    "4. Do calculations\n",
    "5. Conclusions"
   ]
  },
  {
   "cell_type": "markdown",
   "metadata": {
    "heading_collapsed": true
   },
   "source": [
    "### Establish hypotheses"
   ]
  },
  {
   "cell_type": "markdown",
   "metadata": {
    "hidden": true
   },
   "source": [
    "Null Hypothesis: p2016 > p2015  \n",
    "Alternative hypothesis: p2016 <= 2015  \n",
    "With an alpha of 0.05  "
   ]
  },
  {
   "cell_type": "markdown",
   "metadata": {
    "heading_collapsed": true
   },
   "source": [
    "### Determine testing method"
   ]
  },
  {
   "cell_type": "markdown",
   "metadata": {
    "hidden": true
   },
   "source": [
    "Left tail"
   ]
  },
  {
   "cell_type": "markdown",
   "metadata": {
    "heading_collapsed": true
   },
   "source": [
    "### Establish rejection criteria\n"
   ]
  },
  {
   "cell_type": "markdown",
   "metadata": {},
   "source": [
    "### Do calculations\n"
   ]
  },
  {
   "cell_type": "code",
   "execution_count": null,
   "metadata": {},
   "outputs": [],
   "source": [
    "STEPS:\n",
    "\n",
    "- Calculate p-bar of both populations\n",
    "- Compute sigma of populations\n",
    "- Compute z"
   ]
  },
  {
   "cell_type": "code",
   "execution_count": 3,
   "metadata": {},
   "outputs": [],
   "source": [
    "n1 = 100;\n",
    "n2 = 120;\n",
    "\n",
    "obs1 = 21;\n",
    "obs2 = 30;"
   ]
  },
  {
   "cell_type": "code",
   "execution_count": 6,
   "metadata": {},
   "outputs": [],
   "source": [
    "pBar = (obs1+obs2)/(n1+n2);"
   ]
  },
  {
   "attachments": {
    "image.png": {
     "image/png": "[encoded data removed]"
    }
   },
   "cell_type": "markdown",
   "metadata": {},
   "source": [
    "![image.png](attachment:image.png)"
   ]
  },
  {
   "cell_type": "code",
   "execution_count": 7,
   "metadata": {},
   "outputs": [],
   "source": [
    "import math\n",
    "\n",
    "qBar = 1 - pBar;\n",
    "numerator = pBar*qBar;\n",
    "denominator = (1/n1)+(1/n2)\n",
    "sigmaP1P2 = math.sqrt(numerator*denominator)"
   ]
  },
  {
   "attachments": {
    "image.png": {
     "image/png": "[encoded data removed]"
    }
   },
   "cell_type": "markdown",
   "metadata": {},
   "source": [
    "![image.png](attachment:image.png)"
   ]
  },
  {
   "cell_type": "code",
   "execution_count": 8,
   "metadata": {},
   "outputs": [],
   "source": [
    "ps1 = obs1/n1;\n",
    "ps2 = obs2/n2;\n",
    "\n",
    "diffSampleProps = ps1 - ps2"
   ]
  },
  {
   "cell_type": "code",
   "execution_count": null,
   "metadata": {},
   "outputs": [],
   "source": [
    "diffPopulations = p1-p2"
   ]
  },
  {
   "attachments": {
    "image.png": {
     "image/png": "[encoded data removed]"
    }
   },
   "cell_type": "markdown",
   "metadata": {},
   "source": [
    "\n",
    "![image.png](attachment:image.png)"
   ]
  },
  {
   "cell_type": "markdown",
   "metadata": {
    "heading_collapsed": true
   },
   "source": [
    "### Conclusions"
   ]
  }
 ],
 "metadata": {
  "hide_input": false,
  "kernelspec": {
   "display_name": "Python 2",
   "language": "python",
   "name": "python2"
  },
  "language_info": {
   "codemirror_mode": {
    "name": "ipython",
    "version": 2
   },
   "file_extension": ".py",
   "mimetype": "text/x-python",
   "name": "python",
   "nbconvert_exporter": "python",
   "pygments_lexer": "ipython2",
   "version": "2.7.15"
  },
  "toc": {
   "base_numbering": 1,
   "nav_menu": {},
   "number_sections": true,
   "sideBar": true,
   "skip_h1_title": false,
   "title_cell": "Table of Contents",
   "title_sidebar": "Contents",
   "toc_cell": true,
   "toc_position": {},
   "toc_section_display": true,
   "toc_window_display": false
  }
 },
 "nbformat": 4,
 "nbformat_minor": 2
}
